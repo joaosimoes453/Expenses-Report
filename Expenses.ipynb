{
 "cells": [
  {
   "cell_type": "code",
   "execution_count": 4,
   "id": "96148b74",
   "metadata": {},
   "outputs": [
    {
     "name": "stdout",
     "output_type": "stream",
     "text": [
      "Inserting row: 2023-03-03 00:00:00 Jantar 40 Mariana\n",
      "Duplicate entry, skipping: 1062 (23000): Duplicate entry '2023-03-03-Jantar-40-Mariana' for key 'expenses.uc_unique_expense'\n",
      "Inserting row: 2020-10-20 00:00:00 Bolo 40 João\n",
      "Duplicate entry, skipping: 1062 (23000): Duplicate entry '2020-10-20-Bolo-40-João' for key 'expenses.uc_unique_expense'\n",
      "Inserting row: 1999-03-04 00:00:00 Coisas 20 Madalena\n",
      "Duplicate entry, skipping: 1062 (23000): Duplicate entry '1999-03-04-Coisas-20-Madalena' for key 'expenses.uc_unique_expense'\n",
      "Inserting row: 2001-09-08 00:00:00 Anel 30 Afonso\n",
      "Data from Excel has been successfully inserted into MySQL.\n"
     ]
    }
   ],
   "source": [
    "import openpyxl\n",
    "import mysql.connector\n",
    "\n",
    "# Load the Excel workbook\n",
    "workbook = openpyxl.load_workbook('expenses.xlsx')\n",
    "sheet = workbook.active\n",
    "\n",
    "# MySQL connection setup with connection timeout\n",
    "db_config = {\n",
    "    'host': 'localhost',\n",
    "    'port': '3306',\n",
    "    'user': 'root',\n",
    "    'password': 'Simoes.453',\n",
    "    'database': 'expenses_db',\n",
    "    'connect_timeout': 300\n",
    "}\n",
    "\n",
    "# Connect to the MySQL database\n",
    "connection = mysql.connector.connect(**db_config)\n",
    "cursor = connection.cursor()\n",
    "\n",
    "# Iterate through rows and insert data into MySQL\n",
    "for row in sheet.iter_rows(min_row=2, values_only=True):\n",
    "    date, category, amount, description = row\n",
    "    print(\"Inserting row:\", date, category, amount, description)  # Debugging output\n",
    "    insert_query = \"INSERT INTO expenses (date, category, amount, description) VALUES (%s, %s, %s, %s)\"\n",
    "    data = (date, category, amount, description)\n",
    "    try:\n",
    "        cursor.execute(insert_query, data)\n",
    "        connection.commit()\n",
    "    except mysql.connector.IntegrityError as e:\n",
    "        print(\"Duplicate entry, skipping:\", e)  # Debugging output\n",
    "\n",
    "# Close the cursor and connection\n",
    "cursor.close()\n",
    "connection.close()\n",
    "\n",
    "print(\"Data from Excel has been successfully inserted into MySQL.\")"
   ]
  },
  {
   "cell_type": "code",
   "execution_count": 2,
   "id": "48a7844e",
   "metadata": {},
   "outputs": [
    {
     "name": "stdout",
     "output_type": "stream",
     "text": [
      "Date: 2020-10-20 00:00:00\n",
      "Category: Bolo\n",
      "Amount: 40\n",
      "Description: João\n"
     ]
    }
   ],
   "source": [
    "second_row = sheet.iter_rows(min_row=3, max_row=3, values_only=True)\n",
    "date, category, amount, description = next(second_row)\n",
    "print(\"Date:\", date)\n",
    "print(\"Category:\", category)\n",
    "print(\"Amount:\", amount)\n",
    "print(\"Description:\", description)\n"
   ]
  },
  {
   "cell_type": "code",
   "execution_count": 3,
   "id": "0a09bebd",
   "metadata": {},
   "outputs": [],
   "source": [
    "if not connection.is_connected():\n",
    "    connection.reconnect()\n",
    "    cursor = connection.cursor()"
   ]
  },
  {
   "cell_type": "code",
   "execution_count": null,
   "id": "19a18125",
   "metadata": {},
   "outputs": [],
   "source": [
    "#cursor.execute(insert_query, data)\n",
    "connection.commit()\n",
    "\n",
    "print(\"Rows inserted:\", cursor.rowcount)"
   ]
  },
  {
   "cell_type": "code",
   "execution_count": null,
   "id": "ca8320bc",
   "metadata": {},
   "outputs": [],
   "source": [
    "connection.autocommit = True  # Enable auto-commit"
   ]
  },
  {
   "cell_type": "code",
   "execution_count": null,
   "id": "536805ab",
   "metadata": {},
   "outputs": [],
   "source": []
  }
 ],
 "metadata": {
  "kernelspec": {
   "display_name": "Python 3 (ipykernel)",
   "language": "python",
   "name": "python3"
  },
  "language_info": {
   "codemirror_mode": {
    "name": "ipython",
    "version": 3
   },
   "file_extension": ".py",
   "mimetype": "text/x-python",
   "name": "python",
   "nbconvert_exporter": "python",
   "pygments_lexer": "ipython3",
   "version": "3.11.3"
  }
 },
 "nbformat": 4,
 "nbformat_minor": 5
}
